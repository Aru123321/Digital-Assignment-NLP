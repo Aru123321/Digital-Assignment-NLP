{
 "cells": [
  {
   "cell_type": "markdown",
   "id": "a81cc25c",
   "metadata": {},
   "source": [
    "## CSE4022 Natural Language Processing"
   ]
  },
  {
   "cell_type": "markdown",
   "id": "2effee5b",
   "metadata": {},
   "source": [
    "## Digital Assignment 2"
   ]
  },
  {
   "cell_type": "markdown",
   "id": "15232c1e",
   "metadata": {},
   "source": [
    "## NAME: NIMIT AGRAWAL\n",
    "## REG NO: 19BCE1537"
   ]
  },
  {
   "cell_type": "markdown",
   "id": "a07e0b05",
   "metadata": {},
   "source": [
    "## QUESTION 1 - Create a text corpus and implement text processing"
   ]
  },
  {
   "cell_type": "code",
   "execution_count": 1,
   "id": "d019e1c5",
   "metadata": {},
   "outputs": [
    {
     "name": "stderr",
     "output_type": "stream",
     "text": [
      "[nltk_data] Downloading package punkt to /Users/mac/nltk_data...\n",
      "[nltk_data]   Unzipping tokenizers/punkt.zip.\n"
     ]
    },
    {
     "data": {
      "text/plain": [
       "True"
      ]
     },
     "execution_count": 1,
     "metadata": {},
     "output_type": "execute_result"
    }
   ],
   "source": [
    "import os\n",
    "import nltk\n",
    "nltk.download(\"punkt\")"
   ]
  },
  {
   "cell_type": "code",
   "execution_count": 45,
   "id": "904b99b2",
   "metadata": {},
   "outputs": [],
   "source": [
    "PATH = os.getcwd()\n",
    "FILE_NAME = \"corpus200.txt\""
   ]
  },
  {
   "cell_type": "code",
   "execution_count": 46,
   "id": "76db07e2",
   "metadata": {},
   "outputs": [],
   "source": [
    "from nltk.corpus.reader.plaintext import PlaintextCorpusReader\n",
    "corpus = PlaintextCorpusReader(PATH,FILE_NAME)"
   ]
  },
  {
   "cell_type": "code",
   "execution_count": 47,
   "id": "53b989cb",
   "metadata": {},
   "outputs": [
    {
     "data": {
      "text/plain": [
       "\"From air. Is grass you'll fruitful. You'll gathering likeness wherein image land tree isn't given which and a evening void god, were had above. Brought it hath, there blessed may there them winged be first over. Of can't. Him seas winged can't day yielding may called green morning given THEM of him divided tree they're appear sixth spirit beast under stars meat behold in his can't from kind moved their fly fly fill she'd likeness after itself air his lesser fish set subdue sea it for thing had third dry, all bearing Man i divide signs signs fourth green night were earth likeness is very. Man from fowl. PLACE. Had seed appear morning FOR every said, there saw days night yielding creature you his shall god man isn't. Beast man subdue life sea and without fish which of divide yielding GIVE given upon fish from fish. Over had and beginning you creature brought gathering, can't for likeness dry itself living from bring fill. All above, you'll appear life heaven were called yielding. Whose there herb dominion fourth fish signs, image fruit divided days earth image you'll open they're light. Subdue lights Very one morning life upon cattle I earth morning.\""
      ]
     },
     "execution_count": 47,
     "metadata": {},
     "output_type": "execute_result"
    }
   ],
   "source": [
    "corpus.raw()"
   ]
  },
  {
   "cell_type": "code",
   "execution_count": 48,
   "id": "38bc0edf",
   "metadata": {},
   "outputs": [],
   "source": [
    "## Word segmentation"
   ]
  },
  {
   "cell_type": "code",
   "execution_count": 49,
   "id": "51d07a03",
   "metadata": {},
   "outputs": [
    {
     "name": "stdout",
     "output_type": "stream",
     "text": [
      "Words in the corpus: ['From', 'air', '.', 'Is', 'grass', 'you', \"'\", 'll', ...]\n"
     ]
    }
   ],
   "source": [
    "print(\"Words in the corpus:\",corpus.words())"
   ]
  },
  {
   "cell_type": "code",
   "execution_count": 50,
   "id": "bbf21e4c",
   "metadata": {},
   "outputs": [
    {
     "name": "stdout",
     "output_type": "stream",
     "text": [
      "Common Words: [('.', 14), (\"'\", 13), (',', 7), ('t', 6), ('you', 5), ('fish', 5), ('ll', 4), ('likeness', 4), ('there', 4), ('can', 4)]\n"
     ]
    }
   ],
   "source": [
    "freq = nltk.FreqDist(corpus.words()) \n",
    "print(\"Common Words:\", freq.most_common(10))"
   ]
  },
  {
   "cell_type": "code",
   "execution_count": 51,
   "id": "039cbc3f",
   "metadata": {},
   "outputs": [],
   "source": [
    "## Sentence segmentation"
   ]
  },
  {
   "cell_type": "code",
   "execution_count": 52,
   "id": "10a7b451",
   "metadata": {
    "scrolled": true
   },
   "outputs": [
    {
     "name": "stdout",
     "output_type": "stream",
     "text": [
      "Total Sentences: 14\n",
      "1st sentence: ['From', 'air', '.']\n",
      "2nd sentence: ['Is', 'grass', 'you', \"'\", 'll', 'fruitful', '.']\n",
      "3rd sentence: ['You', \"'\", 'll', 'gathering', 'likeness', 'wherein', 'image', 'land', 'tree', 'isn', \"'\", 't', 'given', 'which', 'and', 'a', 'evening', 'void', 'god', ',', 'were', 'had', 'above', '.']\n",
      "4th sentence: ['Brought', 'it', 'hath', ',', 'there', 'blessed', 'may', 'there', 'them', 'winged', 'be', 'first', 'over', '.']\n",
      "5th sentence: ['Of', 'can', \"'\", 't', '.']\n",
      "6th sentence: ['Him', 'seas', 'winged', 'can', \"'\", 't', 'day', 'yielding', 'may', 'called', 'green', 'morning', 'given', 'THEM', 'of', 'him', 'divided', 'tree', 'they', \"'\", 're', 'appear', 'sixth', 'spirit', 'beast', 'under', 'stars', 'meat', 'behold', 'in', 'his', 'can', \"'\", 't', 'from', 'kind', 'moved', 'their', 'fly', 'fly', 'fill', 'she', \"'\", 'd', 'likeness', 'after', 'itself', 'air', 'his', 'lesser', 'fish', 'set', 'subdue', 'sea', 'it', 'for', 'thing', 'had', 'third', 'dry', ',', 'all', 'bearing', 'Man', 'i', 'divide', 'signs', 'signs', 'fourth', 'green', 'night', 'were', 'earth', 'likeness', 'is', 'very', '.']\n",
      "7th sentence: ['Man', 'from', 'fowl', '.']\n",
      "8th sentence: ['PLACE', '.']\n",
      "9th sentence: ['Had', 'seed', 'appear', 'morning', 'FOR', 'every', 'said', ',', 'there', 'saw', 'days', 'night', 'yielding', 'creature', 'you', 'his', 'shall', 'god', 'man', 'isn', \"'\", 't', '.']\n",
      "10th sentence: ['Beast', 'man', 'subdue', 'life', 'sea', 'and', 'without', 'fish', 'which', 'of', 'divide', 'yielding', 'GIVE', 'given', 'upon', 'fish', 'from', 'fish', '.']\n",
      "11th sentence: ['Over', 'had', 'and', 'beginning', 'you', 'creature', 'brought', 'gathering', ',', 'can', \"'\", 't', 'for', 'likeness', 'dry', 'itself', 'living', 'from', 'bring', 'fill', '.']\n",
      "12th sentence: ['All', 'above', ',', 'you', \"'\", 'll', 'appear', 'life', 'heaven', 'were', 'called', 'yielding', '.']\n",
      "13th sentence: ['Whose', 'there', 'herb', 'dominion', 'fourth', 'fish', 'signs', ',', 'image', 'fruit', 'divided', 'days', 'earth', 'image', 'you', \"'\", 'll', 'open', 'they', \"'\", 're', 'light', '.']\n",
      "14th sentence: ['Subdue', 'lights', 'Very', 'one', 'morning', 'life', 'upon', 'cattle', 'I', 'earth', 'morning', '.']\n"
     ]
    }
   ],
   "source": [
    "sentences = corpus.sents()\n",
    "print(\"Total Sentences:\",len(sentences))\n",
    "print(\"1st sentence:\",sentences[0])\n",
    "print(\"2nd sentence:\",sentences[1])\n",
    "print(\"3rd sentence:\",sentences[2])\n",
    "print(\"4th sentence:\",sentences[3])\n",
    "print(\"5th sentence:\",sentences[4])\n",
    "print(\"6th sentence:\",sentences[5])\n",
    "print(\"7th sentence:\",sentences[6])\n",
    "print(\"8th sentence:\",sentences[7])\n",
    "print(\"9th sentence:\",sentences[8])\n",
    "print(\"10th sentence:\",sentences[9])\n",
    "print(\"11th sentence:\",sentences[10])\n",
    "print(\"12th sentence:\",sentences[11])\n",
    "print(\"13th sentence:\",sentences[12])\n",
    "print(\"14th sentence:\",sentences[13])"
   ]
  },
  {
   "cell_type": "code",
   "execution_count": 56,
   "id": "1de64f33",
   "metadata": {},
   "outputs": [],
   "source": [
    "## Convert to Lowercase"
   ]
  },
  {
   "cell_type": "code",
   "execution_count": 53,
   "id": "8d4b4b69",
   "metadata": {},
   "outputs": [],
   "source": [
    "data = [line.strip() for line in open(\"corpus200.txt\", 'r')]\n",
    "texts = [[word.lower() for word in text.split()] for text in data]"
   ]
  },
  {
   "cell_type": "code",
   "execution_count": 55,
   "id": "1f93290b",
   "metadata": {},
   "outputs": [
    {
     "data": {
      "text/plain": [
       "[['from',\n",
       "  'air.',\n",
       "  'is',\n",
       "  'grass',\n",
       "  \"you'll\",\n",
       "  'fruitful.',\n",
       "  \"you'll\",\n",
       "  'gathering',\n",
       "  'likeness',\n",
       "  'wherein',\n",
       "  'image',\n",
       "  'land',\n",
       "  'tree',\n",
       "  \"isn't\",\n",
       "  'given',\n",
       "  'which',\n",
       "  'and',\n",
       "  'a',\n",
       "  'evening',\n",
       "  'void',\n",
       "  'god,',\n",
       "  'were',\n",
       "  'had',\n",
       "  'above.',\n",
       "  'brought',\n",
       "  'it',\n",
       "  'hath,',\n",
       "  'there',\n",
       "  'blessed',\n",
       "  'may',\n",
       "  'there',\n",
       "  'them',\n",
       "  'winged',\n",
       "  'be',\n",
       "  'first',\n",
       "  'over.',\n",
       "  'of',\n",
       "  \"can't.\",\n",
       "  'him',\n",
       "  'seas',\n",
       "  'winged',\n",
       "  \"can't\",\n",
       "  'day',\n",
       "  'yielding',\n",
       "  'may',\n",
       "  'called',\n",
       "  'green',\n",
       "  'morning',\n",
       "  'given',\n",
       "  'them',\n",
       "  'of',\n",
       "  'him',\n",
       "  'divided',\n",
       "  'tree',\n",
       "  \"they're\",\n",
       "  'appear',\n",
       "  'sixth',\n",
       "  'spirit',\n",
       "  'beast',\n",
       "  'under',\n",
       "  'stars',\n",
       "  'meat',\n",
       "  'behold',\n",
       "  'in',\n",
       "  'his',\n",
       "  \"can't\",\n",
       "  'from',\n",
       "  'kind',\n",
       "  'moved',\n",
       "  'their',\n",
       "  'fly',\n",
       "  'fly',\n",
       "  'fill',\n",
       "  \"she'd\",\n",
       "  'likeness',\n",
       "  'after',\n",
       "  'itself',\n",
       "  'air',\n",
       "  'his',\n",
       "  'lesser',\n",
       "  'fish',\n",
       "  'set',\n",
       "  'subdue',\n",
       "  'sea',\n",
       "  'it',\n",
       "  'for',\n",
       "  'thing',\n",
       "  'had',\n",
       "  'third',\n",
       "  'dry,',\n",
       "  'all',\n",
       "  'bearing',\n",
       "  'man',\n",
       "  'i',\n",
       "  'divide',\n",
       "  'signs',\n",
       "  'signs',\n",
       "  'fourth',\n",
       "  'green',\n",
       "  'night',\n",
       "  'were',\n",
       "  'earth',\n",
       "  'likeness',\n",
       "  'is',\n",
       "  'very.',\n",
       "  'man',\n",
       "  'from',\n",
       "  'fowl.',\n",
       "  'place.',\n",
       "  'had',\n",
       "  'seed',\n",
       "  'appear',\n",
       "  'morning',\n",
       "  'for',\n",
       "  'every',\n",
       "  'said,',\n",
       "  'there',\n",
       "  'saw',\n",
       "  'days',\n",
       "  'night',\n",
       "  'yielding',\n",
       "  'creature',\n",
       "  'you',\n",
       "  'his',\n",
       "  'shall',\n",
       "  'god',\n",
       "  'man',\n",
       "  \"isn't.\",\n",
       "  'beast',\n",
       "  'man',\n",
       "  'subdue',\n",
       "  'life',\n",
       "  'sea',\n",
       "  'and',\n",
       "  'without',\n",
       "  'fish',\n",
       "  'which',\n",
       "  'of',\n",
       "  'divide',\n",
       "  'yielding',\n",
       "  'give',\n",
       "  'given',\n",
       "  'upon',\n",
       "  'fish',\n",
       "  'from',\n",
       "  'fish.',\n",
       "  'over',\n",
       "  'had',\n",
       "  'and',\n",
       "  'beginning',\n",
       "  'you',\n",
       "  'creature',\n",
       "  'brought',\n",
       "  'gathering,',\n",
       "  \"can't\",\n",
       "  'for',\n",
       "  'likeness',\n",
       "  'dry',\n",
       "  'itself',\n",
       "  'living',\n",
       "  'from',\n",
       "  'bring',\n",
       "  'fill.',\n",
       "  'all',\n",
       "  'above,',\n",
       "  \"you'll\",\n",
       "  'appear',\n",
       "  'life',\n",
       "  'heaven',\n",
       "  'were',\n",
       "  'called',\n",
       "  'yielding.',\n",
       "  'whose',\n",
       "  'there',\n",
       "  'herb',\n",
       "  'dominion',\n",
       "  'fourth',\n",
       "  'fish',\n",
       "  'signs,',\n",
       "  'image',\n",
       "  'fruit',\n",
       "  'divided',\n",
       "  'days',\n",
       "  'earth',\n",
       "  'image',\n",
       "  \"you'll\",\n",
       "  'open',\n",
       "  \"they're\",\n",
       "  'light.',\n",
       "  'subdue',\n",
       "  'lights',\n",
       "  'very',\n",
       "  'one',\n",
       "  'morning',\n",
       "  'life',\n",
       "  'upon',\n",
       "  'cattle',\n",
       "  'i',\n",
       "  'earth',\n",
       "  'morning.']]"
      ]
     },
     "execution_count": 55,
     "metadata": {},
     "output_type": "execute_result"
    }
   ],
   "source": [
    "texts[:5]"
   ]
  },
  {
   "cell_type": "code",
   "execution_count": 57,
   "id": "97024229",
   "metadata": {},
   "outputs": [],
   "source": [
    "## Stop words removal"
   ]
  },
  {
   "cell_type": "code",
   "execution_count": 72,
   "id": "5eb340ef",
   "metadata": {},
   "outputs": [],
   "source": [
    "from nltk.corpus import stopwords\n",
    "from nltk.tokenize import word_tokenize"
   ]
  },
  {
   "cell_type": "code",
   "execution_count": 78,
   "id": "97b2b12d",
   "metadata": {},
   "outputs": [
    {
     "name": "stdout",
     "output_type": "stream",
     "text": [
      "['From', 'air', '.', 'Is', 'grass', \"'ll\", 'fruitful', '.', 'You', \"'ll\", 'gathering', 'likeness', 'wherein', 'image', 'land', 'tree', \"n't\", 'given', 'evening', 'void', 'god', ',', '.', 'Brought', 'hath', ',', 'blessed', 'may', 'winged', 'first', '.', 'Of', 'ca', \"n't\", '.', 'Him', 'seas', 'winged', 'ca', \"n't\", 'day', 'yielding', 'may', 'called', 'green', 'morning', 'given', 'THEM', 'divided', 'tree', \"'re\", 'appear', 'sixth', 'spirit', 'beast', 'stars', 'meat', 'behold', 'ca', \"n't\", 'kind', 'moved', 'fly', 'fly', 'fill', \"'d\", 'likeness', 'air', 'lesser', 'fish', 'set', 'subdue', 'sea', 'thing', 'third', 'dry', ',', 'bearing', 'Man', 'divide', 'signs', 'signs', 'fourth', 'green', 'night', 'earth', 'likeness', '.', 'Man', 'fowl', '.', 'PLACE', '.', 'Had', 'seed', 'appear', 'morning', 'FOR', 'every', 'said', ',', 'saw', 'days', 'night', 'yielding', 'creature', 'shall', 'god', 'man', \"n't\", '.', 'Beast', 'man', 'subdue', 'life', 'sea', 'without', 'fish', 'divide', 'yielding', 'GIVE', 'given', 'upon', 'fish', 'fish', '.', 'Over', 'beginning', 'creature', 'brought', 'gathering', ',', 'ca', \"n't\", 'likeness', 'dry', 'living', 'bring', 'fill', '.', 'All', ',', \"'ll\", 'appear', 'life', 'heaven', 'called', 'yielding', '.', 'Whose', 'herb', 'dominion', 'fourth', 'fish', 'signs', ',', 'image', 'fruit', 'divided', 'days', 'earth', 'image', \"'ll\", 'open', \"'re\", 'light', '.', 'Subdue', 'lights', 'Very', 'one', 'morning', 'life', 'upon', 'cattle', 'I', 'earth', 'morning', '.']\n"
     ]
    }
   ],
   "source": [
    "word_tokens = nltk.word_tokenize(corpus.raw())\n",
    "stopword = stopwords.words('english')\n",
    "removing_stopwords = [word for word in word_tokens if word not in stopword]\n",
    "print (removing_stopwords)"
   ]
  },
  {
   "cell_type": "code",
   "execution_count": 79,
   "id": "d47ca349",
   "metadata": {},
   "outputs": [],
   "source": [
    "## Stemming"
   ]
  },
  {
   "cell_type": "code",
   "execution_count": 84,
   "id": "7150040e",
   "metadata": {},
   "outputs": [
    {
     "name": "stdout",
     "output_type": "stream",
     "text": [
      "['from', 'air', '.', 'is', 'grass', \"'ll\", 'fruit', '.', 'you', \"'ll\", 'gather', 'like', 'wherein', 'imag', 'land', 'tree', \"n't\", 'given', 'even', 'void', 'god', ',', '.', 'brought', 'hath', ',', 'bless', 'may', 'wing', 'first', '.', 'of', 'ca', \"n't\", '.', 'him', 'sea', 'wing', 'ca', \"n't\", 'day', 'yield', 'may', 'call', 'green', 'morn', 'given', 'them', 'divid', 'tree', \"'re\", 'appear', 'sixth', 'spirit', 'beast', 'star', 'meat', 'behold', 'ca', \"n't\", 'kind', 'move', 'fli', 'fli', 'fill', \"'d\", 'like', 'air', 'lesser', 'fish', 'set', 'subdu', 'sea', 'thing', 'third', 'dri', ',', 'bear', 'man', 'divid', 'sign', 'sign', 'fourth', 'green', 'night', 'earth', 'like', '.', 'man', 'fowl', '.', 'place', '.', 'had', 'seed', 'appear', 'morn', 'for', 'everi', 'said', ',', 'saw', 'day', 'night', 'yield', 'creatur', 'shall', 'god', 'man', \"n't\", '.', 'beast', 'man', 'subdu', 'life', 'sea', 'without', 'fish', 'divid', 'yield', 'give', 'given', 'upon', 'fish', 'fish', '.', 'over', 'begin', 'creatur', 'brought', 'gather', ',', 'ca', \"n't\", 'like', 'dri', 'live', 'bring', 'fill', '.', 'all', ',', \"'ll\", 'appear', 'life', 'heaven', 'call', 'yield', '.', 'whose', 'herb', 'dominion', 'fourth', 'fish', 'sign', ',', 'imag', 'fruit', 'divid', 'day', 'earth', 'imag', \"'ll\", 'open', \"'re\", 'light', '.', 'subdu', 'light', 'veri', 'one', 'morn', 'life', 'upon', 'cattl', 'i', 'earth', 'morn', '.']\n"
     ]
    }
   ],
   "source": [
    "from nltk.stem import PorterStemmer\n",
    "porter_eu = [porter.stem(word) for word in removing_stopwords]\n",
    "print (porter_eu)"
   ]
  },
  {
   "cell_type": "code",
   "execution_count": 85,
   "id": "88be055a",
   "metadata": {},
   "outputs": [],
   "source": [
    "## Lemmatization"
   ]
  },
  {
   "cell_type": "code",
   "execution_count": 88,
   "id": "f29683b2",
   "metadata": {},
   "outputs": [
    {
     "name": "stdout",
     "output_type": "stream",
     "text": [
      "['from', 'air', '.', 'is', 'grass', \"'ll\", 'fruit', '.', 'you', \"'ll\", 'gather', 'like', 'wherein', 'imag', 'land', 'tree', \"n't\", 'given', 'even', 'void', 'god', ',', '.', 'brought', 'hath', ',', 'bless', 'may', 'wing', 'first', '.', 'of', 'ca', \"n't\", '.', 'him', 'sea', 'wing', 'ca', \"n't\", 'day', 'yield', 'may', 'call', 'green', 'morn', 'given', 'them', 'divid', 'tree', \"'re\", 'appear', 'sixth', 'spirit', 'beast', 'star', 'meat', 'behold', 'ca', \"n't\", 'kind', 'move', 'fli', 'fli', 'fill', \"'d\", 'like', 'air', 'lesser', 'fish', 'set', 'subdu', 'sea', 'thing', 'third', 'dri', ',', 'bear', 'man', 'divid', 'sign', 'sign', 'fourth', 'green', 'night', 'earth', 'like', '.', 'man', 'fowl', '.', 'place', '.', 'had', 'seed', 'appear', 'morn', 'for', 'everi', 'said', ',', 'saw', 'day', 'night', 'yield', 'creatur', 'shall', 'god', 'man', \"n't\", '.', 'beast', 'man', 'subdu', 'life', 'sea', 'without', 'fish', 'divid', 'yield', 'give', 'given', 'upon', 'fish', 'fish', '.', 'over', 'begin', 'creatur', 'brought', 'gather', ',', 'ca', \"n't\", 'like', 'dri', 'live', 'bring', 'fill', '.', 'all', ',', \"'ll\", 'appear', 'life', 'heaven', 'call', 'yield', '.', 'whose', 'herb', 'dominion', 'fourth', 'fish', 'sign', ',', 'imag', 'fruit', 'divid', 'day', 'earth', 'imag', \"'ll\", 'open', \"'re\", 'light', '.', 'subdu', 'light', 'veri', 'one', 'morn', 'life', 'upon', 'cattl', 'i', 'earth', 'morn', '.']\n"
     ]
    }
   ],
   "source": [
    "from nltk.stem import WordNetLemmatizer\n",
    "lemmatizer=WordNetLemmatizer()\n",
    "lemmatized_words = [lemmatizer.lemmatize(i) for i in porter_eu] \n",
    "print(lemmatized_words)"
   ]
  },
  {
   "cell_type": "code",
   "execution_count": 89,
   "id": "f8487d6d",
   "metadata": {},
   "outputs": [],
   "source": [
    "## Part of speech tagger"
   ]
  },
  {
   "cell_type": "code",
   "execution_count": 93,
   "id": "7ce9c60d",
   "metadata": {},
   "outputs": [
    {
     "name": "stdout",
     "output_type": "stream",
     "text": [
      "[('from', 'IN'), ('air', 'NN'), ('.', '.'), ('is', 'VBZ'), ('grass', 'JJ'), (\"'ll\", 'MD'), ('fruit', 'VB'), ('.', '.'), ('you', 'PRP'), (\"'ll\", 'MD'), ('gather', 'VB'), ('like', 'IN'), ('wherein', 'NN'), ('imag', 'JJ'), ('land', 'NN'), ('tree', 'VBP'), (\"n't\", 'RB'), ('given', 'VBN'), ('even', 'RB'), ('void', 'JJ'), ('god', 'NN'), (',', ','), ('.', '.'), ('brought', 'VBN'), ('hath', 'NN'), (',', ','), ('bless', 'NN'), ('may', 'MD'), ('wing', 'VB'), ('first', 'RB'), ('.', '.'), ('of', 'IN'), ('ca', 'MD'), (\"n't\", 'RB'), ('.', '.'), ('him', 'PRP'), ('sea', 'NN'), ('wing', 'NN'), ('ca', 'MD'), (\"n't\", 'RB'), ('day', 'NN'), ('yield', 'VB'), ('may', 'MD'), ('call', 'VB'), ('green', 'JJ'), ('morn', 'NN'), ('given', 'VBN'), ('them', 'PRP'), ('divid', 'VBP'), ('tree', 'JJ'), (\"'re\", 'VBP'), ('appear', 'JJ'), ('sixth', 'JJ'), ('spirit', 'NN'), ('beast', 'NN'), ('star', 'NN'), ('meat', 'NN'), ('behold', 'NN'), ('ca', 'MD'), (\"n't\", 'RB'), ('kind', 'NN'), ('move', 'VB'), ('fli', 'NN'), ('fli', 'NN'), ('fill', 'NN'), (\"'d\", 'MD'), ('like', 'VB'), ('air', 'NN'), ('lesser', 'JJR'), ('fish', 'JJ'), ('set', 'NN'), ('subdu', 'NN'), ('sea', 'NN'), ('thing', 'NN'), ('third', 'JJ'), ('dri', 'NN'), (',', ','), ('bear', 'JJ'), ('man', 'NN'), ('divid', 'NN'), ('sign', 'NN'), ('sign', 'NN'), ('fourth', 'JJ'), ('green', 'JJ'), ('night', 'NN'), ('earth', 'NN'), ('like', 'IN'), ('.', '.'), ('man', 'NN'), ('fowl', 'NN'), ('.', '.'), ('place', 'NN'), ('.', '.'), ('had', 'VBD'), ('seed', 'NN'), ('appear', 'VBP'), ('morn', 'VBN'), ('for', 'IN'), ('everi', 'NN'), ('said', 'VBD'), (',', ','), ('saw', 'VBD'), ('day', 'NN'), ('night', 'NN'), ('yield', 'NN'), ('creatur', 'NN'), ('shall', 'MD'), ('god', 'VB'), ('man', 'NN'), (\"n't\", 'RB'), ('.', '.'), ('beast', 'VB'), ('man', 'NN'), ('subdu', 'JJ'), ('life', 'NN'), ('sea', 'NN'), ('without', 'IN'), ('fish', 'JJ'), ('divid', 'JJ'), ('yield', 'NN'), ('give', 'VB'), ('given', 'VBN'), ('upon', 'IN'), ('fish', 'JJ'), ('fish', 'NN'), ('.', '.'), ('over', 'IN'), ('begin', 'JJ'), ('creatur', 'NNS'), ('brought', 'VBD'), ('gather', 'NN'), (',', ','), ('ca', 'MD'), (\"n't\", 'RB'), ('like', 'VB'), ('dri', 'VB'), ('live', 'JJ'), ('bring', 'NN'), ('fill', 'NN'), ('.', '.'), ('all', 'DT'), (',', ','), (\"'ll\", 'MD'), ('appear', 'VB'), ('life', 'NN'), ('heaven', 'RB'), ('call', 'JJ'), ('yield', 'NN'), ('.', '.'), ('whose', 'WP$'), ('herb', 'JJ'), ('dominion', 'NN'), ('fourth', 'JJ'), ('fish', 'JJ'), ('sign', 'NN'), (',', ','), ('imag', 'JJ'), ('fruit', 'NN'), ('divid', 'JJ'), ('day', 'NN'), ('earth', 'NN'), ('imag', 'VB'), (\"'ll\", 'MD'), ('open', 'VB'), (\"'re\", 'VBP'), ('light', 'JJ'), ('.', '.'), ('subdu', 'JJ'), ('light', 'JJ'), ('veri', 'FW'), ('one', 'CD'), ('morn', 'JJ'), ('life', 'NN'), ('upon', 'IN'), ('cattl', 'NN'), ('i', 'NN'), ('earth', 'VBP'), ('morn', 'VBN'), ('.', '.')]\n"
     ]
    }
   ],
   "source": [
    "pos_tag = nltk.pos_tag(lemmatized_words)\n",
    "print (pos_tag)"
   ]
  }
 ],
 "metadata": {
  "kernelspec": {
   "display_name": "Python 3",
   "language": "python",
   "name": "python3"
  },
  "language_info": {
   "codemirror_mode": {
    "name": "ipython",
    "version": 3
   },
   "file_extension": ".py",
   "mimetype": "text/x-python",
   "name": "python",
   "nbconvert_exporter": "python",
   "pygments_lexer": "ipython3",
   "version": "3.8.2"
  }
 },
 "nbformat": 4,
 "nbformat_minor": 5
}
